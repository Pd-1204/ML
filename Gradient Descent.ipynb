{
 "cells": [
  {
   "cell_type": "code",
   "execution_count": 4,
   "id": "61d95946",
   "metadata": {},
   "outputs": [],
   "source": [
    "#initialize parameeter\n",
    "rate=0.01\n",
    "precision=0.000001\n",
    "previous_step_size=1\n",
    "cur_x=2\n",
    "iters=0\n",
    "max_iters=1000\n",
    "df=lambda x:2*(x+3)"
   ]
  },
  {
   "cell_type": "code",
   "execution_count": 5,
   "id": "c8cf7cac",
   "metadata": {},
   "outputs": [
    {
     "name": "stdout",
     "output_type": "stream",
     "text": [
      "local minima occurs at -2.999951128099859\n"
     ]
    }
   ],
   "source": [
    "while previous_step_size >precision and iters<max_iters:\n",
    "    prev_x=cur_x\n",
    "    cur_x -= rate* df(prev_x)\n",
    "    previous_step_size = abs(prev_x - cur_x)\n",
    "    iters+=1\n",
    "print(\"local minima occurs at\" , cur_x)"
   ]
  },
  {
   "cell_type": "code",
   "execution_count": null,
   "id": "edafb473",
   "metadata": {},
   "outputs": [],
   "source": []
  }
 ],
 "metadata": {
  "kernelspec": {
   "display_name": "Python 3",
   "language": "python",
   "name": "python3"
  },
  "language_info": {
   "codemirror_mode": {
    "name": "ipython",
    "version": 3
   },
   "file_extension": ".py",
   "mimetype": "text/x-python",
   "name": "python",
   "nbconvert_exporter": "python",
   "pygments_lexer": "ipython3",
   "version": "3.9.1"
  }
 },
 "nbformat": 4,
 "nbformat_minor": 5
}
